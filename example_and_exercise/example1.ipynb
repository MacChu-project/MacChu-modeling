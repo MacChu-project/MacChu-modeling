{
 "metadata": {
  "language_info": {
   "codemirror_mode": {
    "name": "ipython",
    "version": 3
   },
   "file_extension": ".py",
   "mimetype": "text/x-python",
   "name": "python",
   "nbconvert_exporter": "python",
   "pygments_lexer": "ipython3",
   "version": "3.6.8-final"
  },
  "orig_nbformat": 2,
  "kernelspec": {
   "name": "python368jvsc74a57bd0ea4acf45d0fa9d7377d4ee5a205d2ece2bef292c3e7db4121dd056ac0970d15b",
   "display_name": "Python 3.6.8 64-bit ('ssac': conda)"
  }
 },
 "nbformat": 4,
 "nbformat_minor": 2,
 "cells": [
  {
   "cell_type": "code",
   "execution_count": 1,
   "metadata": {},
   "outputs": [],
   "source": [
    "import pandas as pd\n",
    "import numpy as np"
   ]
  },
  {
   "cell_type": "code",
   "execution_count": 2,
   "metadata": {},
   "outputs": [],
   "source": [
    "# !pip install sklearn"
   ]
  },
  {
   "cell_type": "code",
   "execution_count": 3,
   "metadata": {},
   "outputs": [
    {
     "output_type": "stream",
     "name": "stdout",
     "text": [
      "<class 'pandas.core.frame.DataFrame'>\nRangeIndex: 206 entries, 0 to 205\nData columns (total 10 columns):\n #   Column       Non-Null Count  Dtype  \n---  ------       --------------  -----  \n 0   Unnamed: 0   206 non-null    int64  \n 1   Product      206 non-null    object \n 2   RAM          206 non-null    int64  \n 3   ROM          206 non-null    int64  \n 4   Display      206 non-null    float64\n 5   Back_camera  206 non-null    int64  \n 6   Processor    206 non-null    int64  \n 7   Battery      206 non-null    int64  \n 8   Rating       206 non-null    float64\n 9   Spec         206 non-null    object \ndtypes: float64(2), int64(6), object(2)\nmemory usage: 16.2+ KB\n"
     ]
    }
   ],
   "source": [
    "# 데이터 준비\n",
    "phones = pd.read_csv('data-files/phones_df.csv')\n",
    "phones.info()"
   ]
  },
  {
   "cell_type": "code",
   "execution_count": 4,
   "metadata": {},
   "outputs": [
    {
     "output_type": "execute_result",
     "data": {
      "text/plain": [
       "   Unnamed: 0                                 Product  RAM  ROM  Display  \\\n",
       "0           5        Realme 7i (Fusion Green, 128 GB)    4  128    16.51   \n",
       "1           6         Realme 7i (Fusion Blue, 128 GB)    4  128    16.51   \n",
       "2           7          Realme 7i (Fusion Blue, 64 GB)    4   64    16.51   \n",
       "3           8         Realme 7i (Fusion Green, 64 GB)    4   64    16.51   \n",
       "4           9  Realme Narzo 20A (Glory Silver, 64 GB)    4   64    16.51   \n",
       "\n",
       "   Back_camera  Processor  Battery  Rating                       Spec  \n",
       "0           64        662     5000     4.4  4 128 16.51  64 662 5000   \n",
       "1           64        662     5000     4.4  4 128 16.51  64 662 5000   \n",
       "2           64        662     5000     4.4   4 64 16.51  64 662 5000   \n",
       "3           64        662     5000     4.4   4 64 16.51  64 662 5000   \n",
       "4           12        665     5000     4.5   4 64 16.51  12 665 5000   "
      ],
      "text/html": "<div>\n<style scoped>\n    .dataframe tbody tr th:only-of-type {\n        vertical-align: middle;\n    }\n\n    .dataframe tbody tr th {\n        vertical-align: top;\n    }\n\n    .dataframe thead th {\n        text-align: right;\n    }\n</style>\n<table border=\"1\" class=\"dataframe\">\n  <thead>\n    <tr style=\"text-align: right;\">\n      <th></th>\n      <th>Unnamed: 0</th>\n      <th>Product</th>\n      <th>RAM</th>\n      <th>ROM</th>\n      <th>Display</th>\n      <th>Back_camera</th>\n      <th>Processor</th>\n      <th>Battery</th>\n      <th>Rating</th>\n      <th>Spec</th>\n    </tr>\n  </thead>\n  <tbody>\n    <tr>\n      <th>0</th>\n      <td>5</td>\n      <td>Realme 7i (Fusion Green, 128 GB)</td>\n      <td>4</td>\n      <td>128</td>\n      <td>16.51</td>\n      <td>64</td>\n      <td>662</td>\n      <td>5000</td>\n      <td>4.4</td>\n      <td>4 128 16.51  64 662 5000</td>\n    </tr>\n    <tr>\n      <th>1</th>\n      <td>6</td>\n      <td>Realme 7i (Fusion Blue, 128 GB)</td>\n      <td>4</td>\n      <td>128</td>\n      <td>16.51</td>\n      <td>64</td>\n      <td>662</td>\n      <td>5000</td>\n      <td>4.4</td>\n      <td>4 128 16.51  64 662 5000</td>\n    </tr>\n    <tr>\n      <th>2</th>\n      <td>7</td>\n      <td>Realme 7i (Fusion Blue, 64 GB)</td>\n      <td>4</td>\n      <td>64</td>\n      <td>16.51</td>\n      <td>64</td>\n      <td>662</td>\n      <td>5000</td>\n      <td>4.4</td>\n      <td>4 64 16.51  64 662 5000</td>\n    </tr>\n    <tr>\n      <th>3</th>\n      <td>8</td>\n      <td>Realme 7i (Fusion Green, 64 GB)</td>\n      <td>4</td>\n      <td>64</td>\n      <td>16.51</td>\n      <td>64</td>\n      <td>662</td>\n      <td>5000</td>\n      <td>4.4</td>\n      <td>4 64 16.51  64 662 5000</td>\n    </tr>\n    <tr>\n      <th>4</th>\n      <td>9</td>\n      <td>Realme Narzo 20A (Glory Silver, 64 GB)</td>\n      <td>4</td>\n      <td>64</td>\n      <td>16.51</td>\n      <td>12</td>\n      <td>665</td>\n      <td>5000</td>\n      <td>4.5</td>\n      <td>4 64 16.51  12 665 5000</td>\n    </tr>\n  </tbody>\n</table>\n</div>"
     },
     "metadata": {},
     "execution_count": 4
    }
   ],
   "source": [
    "# phones.drop('Spec',axis=1, inplace=True)\n",
    "phones.head()"
   ]
  },
  {
   "cell_type": "code",
   "execution_count": 5,
   "metadata": {},
   "outputs": [],
   "source": [
    "spec_mat = phones[['RAM','ROM','Display','Back_camera','Processor','Battery']]"
   ]
  },
  {
   "cell_type": "code",
   "execution_count": 6,
   "metadata": {},
   "outputs": [
    {
     "output_type": "stream",
     "name": "stdout",
     "text": [
      "(206, 206)\n[[1.         1.         0.99991957 0.99991957 0.99986627 0.99986627\n  0.99976568 0.99976568 0.999911   0.99993651 0.9998495  0.99984942\n  0.99993639 0.99889782 0.99889782 0.99821409 0.99821409 0.999911\n  0.99984942 0.9994057  0.99994672 0.99994672 0.99984942 0.99993011\n  0.9994057  0.9995697  0.99993639 0.99993651 0.99879852 0.9995697\n  0.99999448 0.9999948  0.99993011 0.99993011 0.9998495  0.9999948\n  0.9994057  0.99986627 0.99994672 0.99963053 0.99963053 0.99963053\n  0.99963021 0.99950897 0.99912022 0.99879852 0.99991454 0.99986627\n  0.99963021 0.99991454 0.99987978 0.99518099 0.99879852 0.99994664\n  0.99994664 0.9995697  0.99907403 0.99907403 0.99994843 0.99994843\n  0.99987978 0.99987978 0.99999448 0.9998495  0.99907411 0.99907411\n  0.99759614 0.9997677  0.99950897 0.9999948  0.99994672 0.99963021\n  0.99759653 0.9994057  0.99983604 0.9988974  0.9988974  0.99910172\n  0.99907409 0.99759614 0.9970205  0.9994379  0.99907411 0.9988974\n  0.99766948 0.99766948 0.9999363  0.99982584 0.99982592 0.99982584\n  0.99982592 0.99943835 0.99910172 0.99686998 0.99619709 0.9999065\n  0.99907409 0.9970205  0.9988974  0.99983604 0.9999363  0.99920519\n  0.9987591  0.99994142 0.99994142 0.99759614 0.99847008 0.99847008\n  0.99889941 0.99889941 0.99879858 0.9996744  0.9996744  0.99961386\n  0.99759614 0.99814842 0.99967406 0.99920519 0.99967406 0.99878318\n  0.99766948 0.99814842 0.99915393 0.99950897 0.99994119 0.9999065\n  0.99846928 0.99889941 0.99686998 0.99961386 0.99967407 0.99967407\n  0.99932223 0.99910172 0.99943835 0.9994379  0.99878318 0.99878318\n  0.99907411 0.99907411 0.99907411 0.99915393 0.99846928 0.99984467\n  0.99915393 0.99943835 0.99956771 0.99810011 0.99810011 0.99875511\n  0.99878272 0.99878272 0.99875511 0.99630882 0.9997677  0.99984467\n  0.99619709 0.99619709 0.99956771 0.99956749 0.99877133 0.99879858\n  0.99846928 0.99846928 0.99986829 0.99986627 0.99686575 0.99619709\n  0.99686575 0.99959502 0.99959502 0.99979695 0.99878737 0.99810011\n  0.99875511 0.99849584 0.99986625 0.99986625 0.99846928 0.99879858\n  0.99749525 0.99994142 0.99749525 0.99749525 0.99749525 0.99749525\n  0.99986627 0.99766824 0.99882082 0.99686998 0.99878272 0.99939827\n  0.99994119 0.99986827 0.99991387 0.99810412 0.99810412 0.99994142\n  0.99994119 0.99956759 0.998902   0.998902   0.99981172 0.99842034\n  0.99956749 0.99986829]\n [1.         1.         0.99991957 0.99991957 0.99986627 0.99986627\n  0.99976568 0.99976568 0.999911   0.99993651 0.9998495  0.99984942\n  0.99993639 0.99889782 0.99889782 0.99821409 0.99821409 0.999911\n  0.99984942 0.9994057  0.99994672 0.99994672 0.99984942 0.99993011\n  0.9994057  0.9995697  0.99993639 0.99993651 0.99879852 0.9995697\n  0.99999448 0.9999948  0.99993011 0.99993011 0.9998495  0.9999948\n  0.9994057  0.99986627 0.99994672 0.99963053 0.99963053 0.99963053\n  0.99963021 0.99950897 0.99912022 0.99879852 0.99991454 0.99986627\n  0.99963021 0.99991454 0.99987978 0.99518099 0.99879852 0.99994664\n  0.99994664 0.9995697  0.99907403 0.99907403 0.99994843 0.99994843\n  0.99987978 0.99987978 0.99999448 0.9998495  0.99907411 0.99907411\n  0.99759614 0.9997677  0.99950897 0.9999948  0.99994672 0.99963021\n  0.99759653 0.9994057  0.99983604 0.9988974  0.9988974  0.99910172\n  0.99907409 0.99759614 0.9970205  0.9994379  0.99907411 0.9988974\n  0.99766948 0.99766948 0.9999363  0.99982584 0.99982592 0.99982584\n  0.99982592 0.99943835 0.99910172 0.99686998 0.99619709 0.9999065\n  0.99907409 0.9970205  0.9988974  0.99983604 0.9999363  0.99920519\n  0.9987591  0.99994142 0.99994142 0.99759614 0.99847008 0.99847008\n  0.99889941 0.99889941 0.99879858 0.9996744  0.9996744  0.99961386\n  0.99759614 0.99814842 0.99967406 0.99920519 0.99967406 0.99878318\n  0.99766948 0.99814842 0.99915393 0.99950897 0.99994119 0.9999065\n  0.99846928 0.99889941 0.99686998 0.99961386 0.99967407 0.99967407\n  0.99932223 0.99910172 0.99943835 0.9994379  0.99878318 0.99878318\n  0.99907411 0.99907411 0.99907411 0.99915393 0.99846928 0.99984467\n  0.99915393 0.99943835 0.99956771 0.99810011 0.99810011 0.99875511\n  0.99878272 0.99878272 0.99875511 0.99630882 0.9997677  0.99984467\n  0.99619709 0.99619709 0.99956771 0.99956749 0.99877133 0.99879858\n  0.99846928 0.99846928 0.99986829 0.99986627 0.99686575 0.99619709\n  0.99686575 0.99959502 0.99959502 0.99979695 0.99878737 0.99810011\n  0.99875511 0.99849584 0.99986625 0.99986625 0.99846928 0.99879858\n  0.99749525 0.99994142 0.99749525 0.99749525 0.99749525 0.99749525\n  0.99986627 0.99766824 0.99882082 0.99686998 0.99878272 0.99939827\n  0.99994119 0.99986827 0.99991387 0.99810412 0.99810412 0.99994142\n  0.99994119 0.99956759 0.998902   0.998902   0.99981172 0.99842034\n  0.99956749 0.99986829]]\n"
     ]
    }
   ],
   "source": [
    "from sklearn.metrics.pairwise import cosine_similarity\n",
    "\n",
    "spec_sim = cosine_similarity(spec_mat, spec_mat)\n",
    "print(spec_sim.shape)\n",
    "print(spec_sim[:2])"
   ]
  },
  {
   "cell_type": "code",
   "execution_count": 7,
   "metadata": {},
   "outputs": [
    {
     "output_type": "execute_result",
     "data": {
      "text/plain": [
       "(206, 206)"
      ]
     },
     "metadata": {},
     "execution_count": 7
    }
   ],
   "source": [
    "spec_sim.shape"
   ]
  },
  {
   "cell_type": "code",
   "execution_count": 24,
   "metadata": {},
   "outputs": [
    {
     "output_type": "execute_result",
     "data": {
      "text/plain": [
       "     Unnamed: 0                                            Product  RAM  ROM  \\\n",
       "8            27       Motorola One Fusion+ (Twilight Blue, 128 GB)    6  128   \n",
       "17           65     Motorola One Fusion+ (Moonlight White, 128 GB)    6  128   \n",
       "181         796       Redmi Note 9 Pro Max (Glacier White, 128 GB)    6  128   \n",
       "103         357         Redmi Note 9 Pro Max (Aurora Blue, 128 GB)    6  128   \n",
       "104         360         Redmi Note 9 Pro Max (Aurora Blue, 128 GB)    6  128   \n",
       "197         942  Redmi Note 9 Pro Max (Interstellar Black, 128 GB)    6  128   \n",
       "124         451       Redmi Note 9 Pro Max (Glacier White, 128 GB)    8  128   \n",
       "192         881         Redmi Note 9 Pro Max (Aurora Blue, 128 GB)    8  128   \n",
       "198         943  Redmi Note 9 Pro Max (Interstellar Black, 128 GB)    8  128   \n",
       "33          120            POCO M2 Pro (Green and Greener, 128 GB)    6  128   \n",
       "\n",
       "     Display  Back_camera  Processor  Battery  Rating  \\\n",
       "8      16.51           64        730     5000     4.4   \n",
       "17     16.51           64        730     5000     4.4   \n",
       "181    16.94           64        720     5020     4.4   \n",
       "103    16.94           64        720     5020     4.4   \n",
       "104    16.94           64        720     5020     4.4   \n",
       "197    16.94           64        720     5020     4.4   \n",
       "124    16.94           64        720     5020     4.4   \n",
       "192    16.94           64        720     5020     4.4   \n",
       "198    16.94           64        720     5020     4.4   \n",
       "33     16.94           48        720     5000     4.4   \n",
       "\n",
       "                          Spec  \n",
       "8    6 128 16.51  64 730 5000   \n",
       "17   6 128 16.51  64 730 5000   \n",
       "181  6 128 16.94  64 720 5020   \n",
       "103  6 128 16.94  64 720 5020   \n",
       "104  6 128 16.94  64 720 5020   \n",
       "197  6 128 16.94  64 720 5020   \n",
       "124  8 128 16.94  64 720 5020   \n",
       "192  8 128 16.94  64 720 5020   \n",
       "198  8 128 16.94  64 720 5020   \n",
       "33   6 128 16.94  48 720 5000   "
      ],
      "text/html": "<div>\n<style scoped>\n    .dataframe tbody tr th:only-of-type {\n        vertical-align: middle;\n    }\n\n    .dataframe tbody tr th {\n        vertical-align: top;\n    }\n\n    .dataframe thead th {\n        text-align: right;\n    }\n</style>\n<table border=\"1\" class=\"dataframe\">\n  <thead>\n    <tr style=\"text-align: right;\">\n      <th></th>\n      <th>Unnamed: 0</th>\n      <th>Product</th>\n      <th>RAM</th>\n      <th>ROM</th>\n      <th>Display</th>\n      <th>Back_camera</th>\n      <th>Processor</th>\n      <th>Battery</th>\n      <th>Rating</th>\n      <th>Spec</th>\n    </tr>\n  </thead>\n  <tbody>\n    <tr>\n      <th>8</th>\n      <td>27</td>\n      <td>Motorola One Fusion+ (Twilight Blue, 128 GB)</td>\n      <td>6</td>\n      <td>128</td>\n      <td>16.51</td>\n      <td>64</td>\n      <td>730</td>\n      <td>5000</td>\n      <td>4.4</td>\n      <td>6 128 16.51  64 730 5000</td>\n    </tr>\n    <tr>\n      <th>17</th>\n      <td>65</td>\n      <td>Motorola One Fusion+ (Moonlight White, 128 GB)</td>\n      <td>6</td>\n      <td>128</td>\n      <td>16.51</td>\n      <td>64</td>\n      <td>730</td>\n      <td>5000</td>\n      <td>4.4</td>\n      <td>6 128 16.51  64 730 5000</td>\n    </tr>\n    <tr>\n      <th>181</th>\n      <td>796</td>\n      <td>Redmi Note 9 Pro Max (Glacier White, 128 GB)</td>\n      <td>6</td>\n      <td>128</td>\n      <td>16.94</td>\n      <td>64</td>\n      <td>720</td>\n      <td>5020</td>\n      <td>4.4</td>\n      <td>6 128 16.94  64 720 5020</td>\n    </tr>\n    <tr>\n      <th>103</th>\n      <td>357</td>\n      <td>Redmi Note 9 Pro Max (Aurora Blue, 128 GB)</td>\n      <td>6</td>\n      <td>128</td>\n      <td>16.94</td>\n      <td>64</td>\n      <td>720</td>\n      <td>5020</td>\n      <td>4.4</td>\n      <td>6 128 16.94  64 720 5020</td>\n    </tr>\n    <tr>\n      <th>104</th>\n      <td>360</td>\n      <td>Redmi Note 9 Pro Max (Aurora Blue, 128 GB)</td>\n      <td>6</td>\n      <td>128</td>\n      <td>16.94</td>\n      <td>64</td>\n      <td>720</td>\n      <td>5020</td>\n      <td>4.4</td>\n      <td>6 128 16.94  64 720 5020</td>\n    </tr>\n    <tr>\n      <th>197</th>\n      <td>942</td>\n      <td>Redmi Note 9 Pro Max (Interstellar Black, 128 GB)</td>\n      <td>6</td>\n      <td>128</td>\n      <td>16.94</td>\n      <td>64</td>\n      <td>720</td>\n      <td>5020</td>\n      <td>4.4</td>\n      <td>6 128 16.94  64 720 5020</td>\n    </tr>\n    <tr>\n      <th>124</th>\n      <td>451</td>\n      <td>Redmi Note 9 Pro Max (Glacier White, 128 GB)</td>\n      <td>8</td>\n      <td>128</td>\n      <td>16.94</td>\n      <td>64</td>\n      <td>720</td>\n      <td>5020</td>\n      <td>4.4</td>\n      <td>8 128 16.94  64 720 5020</td>\n    </tr>\n    <tr>\n      <th>192</th>\n      <td>881</td>\n      <td>Redmi Note 9 Pro Max (Aurora Blue, 128 GB)</td>\n      <td>8</td>\n      <td>128</td>\n      <td>16.94</td>\n      <td>64</td>\n      <td>720</td>\n      <td>5020</td>\n      <td>4.4</td>\n      <td>8 128 16.94  64 720 5020</td>\n    </tr>\n    <tr>\n      <th>198</th>\n      <td>943</td>\n      <td>Redmi Note 9 Pro Max (Interstellar Black, 128 GB)</td>\n      <td>8</td>\n      <td>128</td>\n      <td>16.94</td>\n      <td>64</td>\n      <td>720</td>\n      <td>5020</td>\n      <td>4.4</td>\n      <td>8 128 16.94  64 720 5020</td>\n    </tr>\n    <tr>\n      <th>33</th>\n      <td>120</td>\n      <td>POCO M2 Pro (Green and Greener, 128 GB)</td>\n      <td>6</td>\n      <td>128</td>\n      <td>16.94</td>\n      <td>48</td>\n      <td>720</td>\n      <td>5000</td>\n      <td>4.4</td>\n      <td>6 128 16.94  48 720 5000</td>\n    </tr>\n  </tbody>\n</table>\n</div>"
     },
     "metadata": {},
     "execution_count": 24
    }
   ],
   "source": [
    "# 인자로 입력된 phones_df DataFrame에서 'Product' 컬럼이 입력된 Product_name 값인 DataFrame추출\n",
    "product = phones[phones['Product'] == 'Motorola One Fusion+ (Twilight Blue, 128 GB)']\n",
    "\n",
    "# Product_name을 가진 DataFrame의 index 객체를 ndarray로 반환하고 \n",
    "product_index = product.index.values\n",
    "product_index[0]\n",
    "\n",
    "sim1 = spec_sim[product_index[0]]\n",
    "top_10 = np.argsort(sim1)[::-1][:10]\n",
    "\n",
    "phones.iloc[top_10,]"
   ]
  },
  {
   "cell_type": "code",
   "execution_count": null,
   "metadata": {},
   "outputs": [],
   "source": []
  }
 ]
}